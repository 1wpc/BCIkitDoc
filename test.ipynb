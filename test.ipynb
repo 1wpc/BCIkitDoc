{
 "cells": [
  {
   "cell_type": "code",
   "execution_count": null,
   "metadata": {},
   "outputs": [
    {
     "name": "stdout",
     "output_type": "stream",
     "text": [
      "[[ 0.00000000e+00  1.00000000e+00  2.00000000e+00 ...  4.30000000e+01\n",
      "   4.40000000e+01  4.50000000e+01]\n",
      " [-1.87500022e+05 -1.87500022e+05 -1.87500022e+05 ... -1.87500022e+05\n",
      "  -1.87500022e+05 -1.87500022e+05]\n",
      " [-1.86063118e+05 -1.80467560e+05 -1.83579146e+05 ... -1.87500022e+05\n",
      "  -1.87500022e+05 -1.87500022e+05]\n",
      " ...\n",
      " [ 0.00000000e+00  0.00000000e+00  0.00000000e+00 ...  0.00000000e+00\n",
      "   0.00000000e+00  0.00000000e+00]\n",
      " [ 1.74225994e+09  1.74225994e+09  1.74225994e+09 ...  1.74225995e+09\n",
      "   1.74225995e+09  1.74225995e+09]\n",
      " [ 0.00000000e+00  0.00000000e+00  0.00000000e+00 ...  0.00000000e+00\n",
      "   0.00000000e+00  0.00000000e+00]]\n",
      "(24, 8895)\n"
     ]
    }
   ],
   "source": [
    "import time\n",
    "from brainflow.board_shim import BoardShim, BrainFlowInputParams, BoardIds\n",
    "\n",
    "\n",
    "def main():\n",
    "    BoardShim.enable_dev_board_logger()\n",
    "\n",
    "    params = BrainFlowInputParams()\n",
    "    params.ip_port = 6677\n",
    "    params.ip_address = '192.168.4.1'\n",
    "    params.ip_protocol = 3\n",
    "    params.timeout = 10\n",
    "\n",
    "    board = BoardShim(BoardIds.CYTON_WIFI_BOARD, params)\n",
    "    board.prepare_session()\n",
    "    board.start_stream ()\n",
    "    time.sleep(10)\n",
    "    # data = board.get_current_board_data (256) # get latest 256 packages or less, doesnt remove them from internal buffer\n",
    "    data = board.get_board_data()  # get all data and remove it from internal buffer\n",
    "    board.stop_stream()\n",
    "    board.release_session()\n",
    "\n",
    "    print(data)\n",
    "    print(data.shape)\n",
    "\n",
    "\n",
    "if __name__ == \"__main__\":\n",
    "    main()"
   ]
  }
 ],
 "metadata": {
  "kernelspec": {
   "display_name": "base",
   "language": "python",
   "name": "python3"
  },
  "language_info": {
   "codemirror_mode": {
    "name": "ipython",
    "version": 3
   },
   "file_extension": ".py",
   "mimetype": "text/x-python",
   "name": "python",
   "nbconvert_exporter": "python",
   "pygments_lexer": "ipython3",
   "version": "3.12.3"
  }
 },
 "nbformat": 4,
 "nbformat_minor": 2
}
